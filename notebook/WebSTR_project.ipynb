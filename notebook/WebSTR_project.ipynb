{
  "nbformat": 4,
  "nbformat_minor": 0,
  "metadata": {
    "colab": {
      "provenance": [],
      "collapsed_sections": [
        "Wvf7l3F8VUDV",
        "mYD4TAVXYJBZ"
      ]
    },
    "kernelspec": {
      "name": "python3",
      "display_name": "Python 3"
    },
    "language_info": {
      "name": "python"
    }
  },
  "cells": [
    {
      "cell_type": "markdown",
      "source": [
        "## WebSTR_project"
      ],
      "metadata": {
        "id": "hSdBljA8Ug_m"
      }
    },
    {
      "cell_type": "markdown",
      "source": [
        "#### WebSTR-API assess\n",
        "Here is the Webstr API getting started guide\n",
        "https://github.com/acg-team/webSTR-API/blob/main/GETTING_STARTED.md , this will allow you to query the data in your browser or in your code. Check out Python examples at the bottom of this page and try to search for STRs by gene names or multiple gene names, and genomic region, see if you get the same results as in the web portal."
      ],
      "metadata": {
        "id": "Wvf7l3F8VUDV"
      }
    },
    {
      "cell_type": "code",
      "source": [
        "import requests\n",
        "import pandas as pd"
      ],
      "metadata": {
        "id": "yjJm_hDVWpq9"
      },
      "execution_count": 9,
      "outputs": []
    },
    {
      "cell_type": "markdown",
      "source": [
        "search for STRs by gene names or multiple gene names"
      ],
      "metadata": {
        "id": "CanJiIoAQoLc"
      }
    },
    {
      "cell_type": "code",
      "source": [
        "### your code here"
      ],
      "metadata": {
        "id": "g4b13f69QKOM"
      },
      "execution_count": 10,
      "outputs": []
    },
    {
      "cell_type": "markdown",
      "source": [
        "search for STR by genomic region"
      ],
      "metadata": {
        "id": "_wqWl7D28aVF"
      }
    },
    {
      "cell_type": "code",
      "source": [
        "### your code here"
      ],
      "metadata": {
        "id": "oFCo0Ghr8qya"
      },
      "execution_count": 11,
      "outputs": []
    },
    {
      "cell_type": "markdown",
      "source": [
        "#### STR Variation in CRC"
      ],
      "metadata": {
        "id": "mYD4TAVXYJBZ"
      }
    },
    {
      "cell_type": "markdown",
      "source": [
        "Short tandem repeats, also called microsatellite, are abundant throughout the genome and polymorphic among individuals. Microsatellite instability (MSI) is a hypermutable phenotype caused by DNA mismatch repair (MMR) system deficiencies in colorectal cancer. Certains genes have been found to be associated with MMR. For more background about MSI in CRC, you can read this paper https://www.ncbi.nlm.nih.gov/pmc/articles/PMC3037515/\n",
        "\n",
        "With the STRs genotyped from TCGA CRC normal and tumor samples, we are able to explore the STR length variations in CRC. We will focus on three MMR related genes (MSH2, MSH6, PMS1)."
      ],
      "metadata": {
        "id": "vFbirBfK86gI"
      }
    },
    {
      "cell_type": "markdown",
      "source": [
        "To get started, mount your google drive and upload files *normal_sample_ch2.csv* and *tumor_sample_chr2.csv* into your drive."
      ],
      "metadata": {
        "id": "E78o1AU3DEYu"
      }
    },
    {
      "cell_type": "code",
      "source": [
        "from google.colab import drive\n",
        "drive.mount('/content/drive')\n",
        "\n",
        "bn_chr2 = pd.read_csv(\"/content/drive/MyDrive/normal_sample_chr2.csv\")\n",
        "pt_chr2 = pd.read_csv(\"/content/drive/MyDrive/tumor_sample_chr2.csv\")"
      ],
      "metadata": {
        "colab": {
          "base_uri": "https://localhost:8080/"
        },
        "id": "N7w-YyEz-wI8",
        "outputId": "15a41a94-20ee-4fcd-9abb-da13264438ab"
      },
      "execution_count": 14,
      "outputs": [
        {
          "output_type": "stream",
          "name": "stdout",
          "text": [
            "Mounted at /content/drive\n"
          ]
        }
      ]
    },
    {
      "cell_type": "markdown",
      "source": [
        "Before doing further analysis, it's a good practice to have a basic knowledge of the datasets. For example, how many unique samples and STRs in each of the dataset? What are the numbers of STRs with different unit size? Which type of STRs are most abundent?"
      ],
      "metadata": {
        "id": "2ubsw-gTD45D"
      }
    },
    {
      "cell_type": "code",
      "source": [
        "pt_chr2.head()"
      ],
      "metadata": {
        "colab": {
          "base_uri": "https://localhost:8080/",
          "height": 206
        },
        "id": "uVGhqM1XBTG6",
        "outputId": "1ada6b0c-c5fa-4ba8-c7b0-481f1fa99a30"
      },
      "execution_count": 15,
      "outputs": [
        {
          "output_type": "execute_result",
          "data": {
            "text/plain": [
              "   patient  allele_a  allele_b    sample_type   chr     start       end  \\\n",
              "0  sample1         9         9  Primary Tumor  chr2  10777693  10777710   \n",
              "1  sample2         9         9  Primary Tumor  chr2  10777693  10777710   \n",
              "2  sample3         9         9  Primary Tumor  chr2  10777693  10777710   \n",
              "3  sample4         9         9  Primary Tumor  chr2  10777693  10777710   \n",
              "4  sample5         9         9  Primary Tumor  chr2  10777693  10777710   \n",
              "\n",
              "   period  ref  \n",
              "0       2    9  \n",
              "1       2    9  \n",
              "2       2    9  \n",
              "3       2    9  \n",
              "4       2    9  "
            ],
            "text/html": [
              "\n",
              "  <div id=\"df-dfc178d9-4f52-4f87-8959-42984975f349\" class=\"colab-df-container\">\n",
              "    <div>\n",
              "<style scoped>\n",
              "    .dataframe tbody tr th:only-of-type {\n",
              "        vertical-align: middle;\n",
              "    }\n",
              "\n",
              "    .dataframe tbody tr th {\n",
              "        vertical-align: top;\n",
              "    }\n",
              "\n",
              "    .dataframe thead th {\n",
              "        text-align: right;\n",
              "    }\n",
              "</style>\n",
              "<table border=\"1\" class=\"dataframe\">\n",
              "  <thead>\n",
              "    <tr style=\"text-align: right;\">\n",
              "      <th></th>\n",
              "      <th>patient</th>\n",
              "      <th>allele_a</th>\n",
              "      <th>allele_b</th>\n",
              "      <th>sample_type</th>\n",
              "      <th>chr</th>\n",
              "      <th>start</th>\n",
              "      <th>end</th>\n",
              "      <th>period</th>\n",
              "      <th>ref</th>\n",
              "    </tr>\n",
              "  </thead>\n",
              "  <tbody>\n",
              "    <tr>\n",
              "      <th>0</th>\n",
              "      <td>sample1</td>\n",
              "      <td>9</td>\n",
              "      <td>9</td>\n",
              "      <td>Primary Tumor</td>\n",
              "      <td>chr2</td>\n",
              "      <td>10777693</td>\n",
              "      <td>10777710</td>\n",
              "      <td>2</td>\n",
              "      <td>9</td>\n",
              "    </tr>\n",
              "    <tr>\n",
              "      <th>1</th>\n",
              "      <td>sample2</td>\n",
              "      <td>9</td>\n",
              "      <td>9</td>\n",
              "      <td>Primary Tumor</td>\n",
              "      <td>chr2</td>\n",
              "      <td>10777693</td>\n",
              "      <td>10777710</td>\n",
              "      <td>2</td>\n",
              "      <td>9</td>\n",
              "    </tr>\n",
              "    <tr>\n",
              "      <th>2</th>\n",
              "      <td>sample3</td>\n",
              "      <td>9</td>\n",
              "      <td>9</td>\n",
              "      <td>Primary Tumor</td>\n",
              "      <td>chr2</td>\n",
              "      <td>10777693</td>\n",
              "      <td>10777710</td>\n",
              "      <td>2</td>\n",
              "      <td>9</td>\n",
              "    </tr>\n",
              "    <tr>\n",
              "      <th>3</th>\n",
              "      <td>sample4</td>\n",
              "      <td>9</td>\n",
              "      <td>9</td>\n",
              "      <td>Primary Tumor</td>\n",
              "      <td>chr2</td>\n",
              "      <td>10777693</td>\n",
              "      <td>10777710</td>\n",
              "      <td>2</td>\n",
              "      <td>9</td>\n",
              "    </tr>\n",
              "    <tr>\n",
              "      <th>4</th>\n",
              "      <td>sample5</td>\n",
              "      <td>9</td>\n",
              "      <td>9</td>\n",
              "      <td>Primary Tumor</td>\n",
              "      <td>chr2</td>\n",
              "      <td>10777693</td>\n",
              "      <td>10777710</td>\n",
              "      <td>2</td>\n",
              "      <td>9</td>\n",
              "    </tr>\n",
              "  </tbody>\n",
              "</table>\n",
              "</div>\n",
              "    <div class=\"colab-df-buttons\">\n",
              "\n",
              "  <div class=\"colab-df-container\">\n",
              "    <button class=\"colab-df-convert\" onclick=\"convertToInteractive('df-dfc178d9-4f52-4f87-8959-42984975f349')\"\n",
              "            title=\"Convert this dataframe to an interactive table.\"\n",
              "            style=\"display:none;\">\n",
              "\n",
              "  <svg xmlns=\"http://www.w3.org/2000/svg\" height=\"24px\" viewBox=\"0 -960 960 960\">\n",
              "    <path d=\"M120-120v-720h720v720H120Zm60-500h600v-160H180v160Zm220 220h160v-160H400v160Zm0 220h160v-160H400v160ZM180-400h160v-160H180v160Zm440 0h160v-160H620v160ZM180-180h160v-160H180v160Zm440 0h160v-160H620v160Z\"/>\n",
              "  </svg>\n",
              "    </button>\n",
              "\n",
              "  <style>\n",
              "    .colab-df-container {\n",
              "      display:flex;\n",
              "      gap: 12px;\n",
              "    }\n",
              "\n",
              "    .colab-df-convert {\n",
              "      background-color: #E8F0FE;\n",
              "      border: none;\n",
              "      border-radius: 50%;\n",
              "      cursor: pointer;\n",
              "      display: none;\n",
              "      fill: #1967D2;\n",
              "      height: 32px;\n",
              "      padding: 0 0 0 0;\n",
              "      width: 32px;\n",
              "    }\n",
              "\n",
              "    .colab-df-convert:hover {\n",
              "      background-color: #E2EBFA;\n",
              "      box-shadow: 0px 1px 2px rgba(60, 64, 67, 0.3), 0px 1px 3px 1px rgba(60, 64, 67, 0.15);\n",
              "      fill: #174EA6;\n",
              "    }\n",
              "\n",
              "    .colab-df-buttons div {\n",
              "      margin-bottom: 4px;\n",
              "    }\n",
              "\n",
              "    [theme=dark] .colab-df-convert {\n",
              "      background-color: #3B4455;\n",
              "      fill: #D2E3FC;\n",
              "    }\n",
              "\n",
              "    [theme=dark] .colab-df-convert:hover {\n",
              "      background-color: #434B5C;\n",
              "      box-shadow: 0px 1px 3px 1px rgba(0, 0, 0, 0.15);\n",
              "      filter: drop-shadow(0px 1px 2px rgba(0, 0, 0, 0.3));\n",
              "      fill: #FFFFFF;\n",
              "    }\n",
              "  </style>\n",
              "\n",
              "    <script>\n",
              "      const buttonEl =\n",
              "        document.querySelector('#df-dfc178d9-4f52-4f87-8959-42984975f349 button.colab-df-convert');\n",
              "      buttonEl.style.display =\n",
              "        google.colab.kernel.accessAllowed ? 'block' : 'none';\n",
              "\n",
              "      async function convertToInteractive(key) {\n",
              "        const element = document.querySelector('#df-dfc178d9-4f52-4f87-8959-42984975f349');\n",
              "        const dataTable =\n",
              "          await google.colab.kernel.invokeFunction('convertToInteractive',\n",
              "                                                    [key], {});\n",
              "        if (!dataTable) return;\n",
              "\n",
              "        const docLinkHtml = 'Like what you see? Visit the ' +\n",
              "          '<a target=\"_blank\" href=https://colab.research.google.com/notebooks/data_table.ipynb>data table notebook</a>'\n",
              "          + ' to learn more about interactive tables.';\n",
              "        element.innerHTML = '';\n",
              "        dataTable['output_type'] = 'display_data';\n",
              "        await google.colab.output.renderOutput(dataTable, element);\n",
              "        const docLink = document.createElement('div');\n",
              "        docLink.innerHTML = docLinkHtml;\n",
              "        element.appendChild(docLink);\n",
              "      }\n",
              "    </script>\n",
              "  </div>\n",
              "\n",
              "\n",
              "<div id=\"df-6580d20d-f062-4322-a10a-b4d4b5e30935\">\n",
              "  <button class=\"colab-df-quickchart\" onclick=\"quickchart('df-6580d20d-f062-4322-a10a-b4d4b5e30935')\"\n",
              "            title=\"Suggest charts.\"\n",
              "            style=\"display:none;\">\n",
              "\n",
              "<svg xmlns=\"http://www.w3.org/2000/svg\" height=\"24px\"viewBox=\"0 0 24 24\"\n",
              "     width=\"24px\">\n",
              "    <g>\n",
              "        <path d=\"M19 3H5c-1.1 0-2 .9-2 2v14c0 1.1.9 2 2 2h14c1.1 0 2-.9 2-2V5c0-1.1-.9-2-2-2zM9 17H7v-7h2v7zm4 0h-2V7h2v10zm4 0h-2v-4h2v4z\"/>\n",
              "    </g>\n",
              "</svg>\n",
              "  </button>\n",
              "\n",
              "<style>\n",
              "  .colab-df-quickchart {\n",
              "      --bg-color: #E8F0FE;\n",
              "      --fill-color: #1967D2;\n",
              "      --hover-bg-color: #E2EBFA;\n",
              "      --hover-fill-color: #174EA6;\n",
              "      --disabled-fill-color: #AAA;\n",
              "      --disabled-bg-color: #DDD;\n",
              "  }\n",
              "\n",
              "  [theme=dark] .colab-df-quickchart {\n",
              "      --bg-color: #3B4455;\n",
              "      --fill-color: #D2E3FC;\n",
              "      --hover-bg-color: #434B5C;\n",
              "      --hover-fill-color: #FFFFFF;\n",
              "      --disabled-bg-color: #3B4455;\n",
              "      --disabled-fill-color: #666;\n",
              "  }\n",
              "\n",
              "  .colab-df-quickchart {\n",
              "    background-color: var(--bg-color);\n",
              "    border: none;\n",
              "    border-radius: 50%;\n",
              "    cursor: pointer;\n",
              "    display: none;\n",
              "    fill: var(--fill-color);\n",
              "    height: 32px;\n",
              "    padding: 0;\n",
              "    width: 32px;\n",
              "  }\n",
              "\n",
              "  .colab-df-quickchart:hover {\n",
              "    background-color: var(--hover-bg-color);\n",
              "    box-shadow: 0 1px 2px rgba(60, 64, 67, 0.3), 0 1px 3px 1px rgba(60, 64, 67, 0.15);\n",
              "    fill: var(--button-hover-fill-color);\n",
              "  }\n",
              "\n",
              "  .colab-df-quickchart-complete:disabled,\n",
              "  .colab-df-quickchart-complete:disabled:hover {\n",
              "    background-color: var(--disabled-bg-color);\n",
              "    fill: var(--disabled-fill-color);\n",
              "    box-shadow: none;\n",
              "  }\n",
              "\n",
              "  .colab-df-spinner {\n",
              "    border: 2px solid var(--fill-color);\n",
              "    border-color: transparent;\n",
              "    border-bottom-color: var(--fill-color);\n",
              "    animation:\n",
              "      spin 1s steps(1) infinite;\n",
              "  }\n",
              "\n",
              "  @keyframes spin {\n",
              "    0% {\n",
              "      border-color: transparent;\n",
              "      border-bottom-color: var(--fill-color);\n",
              "      border-left-color: var(--fill-color);\n",
              "    }\n",
              "    20% {\n",
              "      border-color: transparent;\n",
              "      border-left-color: var(--fill-color);\n",
              "      border-top-color: var(--fill-color);\n",
              "    }\n",
              "    30% {\n",
              "      border-color: transparent;\n",
              "      border-left-color: var(--fill-color);\n",
              "      border-top-color: var(--fill-color);\n",
              "      border-right-color: var(--fill-color);\n",
              "    }\n",
              "    40% {\n",
              "      border-color: transparent;\n",
              "      border-right-color: var(--fill-color);\n",
              "      border-top-color: var(--fill-color);\n",
              "    }\n",
              "    60% {\n",
              "      border-color: transparent;\n",
              "      border-right-color: var(--fill-color);\n",
              "    }\n",
              "    80% {\n",
              "      border-color: transparent;\n",
              "      border-right-color: var(--fill-color);\n",
              "      border-bottom-color: var(--fill-color);\n",
              "    }\n",
              "    90% {\n",
              "      border-color: transparent;\n",
              "      border-bottom-color: var(--fill-color);\n",
              "    }\n",
              "  }\n",
              "</style>\n",
              "\n",
              "  <script>\n",
              "    async function quickchart(key) {\n",
              "      const quickchartButtonEl =\n",
              "        document.querySelector('#' + key + ' button');\n",
              "      quickchartButtonEl.disabled = true;  // To prevent multiple clicks.\n",
              "      quickchartButtonEl.classList.add('colab-df-spinner');\n",
              "      try {\n",
              "        const charts = await google.colab.kernel.invokeFunction(\n",
              "            'suggestCharts', [key], {});\n",
              "      } catch (error) {\n",
              "        console.error('Error during call to suggestCharts:', error);\n",
              "      }\n",
              "      quickchartButtonEl.classList.remove('colab-df-spinner');\n",
              "      quickchartButtonEl.classList.add('colab-df-quickchart-complete');\n",
              "    }\n",
              "    (() => {\n",
              "      let quickchartButtonEl =\n",
              "        document.querySelector('#df-6580d20d-f062-4322-a10a-b4d4b5e30935 button');\n",
              "      quickchartButtonEl.style.display =\n",
              "        google.colab.kernel.accessAllowed ? 'block' : 'none';\n",
              "    })();\n",
              "  </script>\n",
              "</div>\n",
              "    </div>\n",
              "  </div>\n"
            ]
          },
          "metadata": {},
          "execution_count": 15
        }
      ]
    },
    {
      "cell_type": "code",
      "source": [
        "### your code here"
      ],
      "metadata": {
        "id": "iVhKKu6PFLAm"
      },
      "execution_count": 16,
      "outputs": []
    },
    {
      "cell_type": "markdown",
      "source": [
        "With WebSTR API, search for STRs by MMR genes (**MSH2, MSH6, PMS1**) like what you did in the first section.\n"
      ],
      "metadata": {
        "id": "PPTbMLnUYuQ7"
      }
    },
    {
      "cell_type": "code",
      "source": [
        "### your code here"
      ],
      "metadata": {
        "id": "XFpEE_NzYtY_"
      },
      "execution_count": 17,
      "outputs": []
    },
    {
      "cell_type": "markdown",
      "source": [
        "Since we are going to investigate the STR variations in CRC, keep STRs only from panel **gangstr_crc_hg38**."
      ],
      "metadata": {
        "id": "JcyI9g35aA07"
      }
    },
    {
      "cell_type": "code",
      "source": [
        "### your code here"
      ],
      "metadata": {
        "id": "vUGe17bxZ6xu"
      },
      "execution_count": 18,
      "outputs": []
    },
    {
      "cell_type": "markdown",
      "source": [
        "After filtering, you will get **212 STRs** for MSH2, **185 STRs** for MSH6, **127 STRs** for PMS1. With the dataset *pt_chr2* you imported before, check the STR length distribution in CRC tumor samples and then select the most variable STR for each gene. For the STRs selected, compare the length distribution between tumor and normal samples."
      ],
      "metadata": {
        "id": "ROv9blnuENZD"
      }
    },
    {
      "cell_type": "code",
      "source": [
        "import seaborn as sns"
      ],
      "metadata": {
        "id": "CZAS_o2kjuYI"
      },
      "execution_count": 19,
      "outputs": []
    },
    {
      "cell_type": "code",
      "source": [
        "### your code here"
      ],
      "metadata": {
        "id": "o04zhohlhnAP"
      },
      "execution_count": 20,
      "outputs": []
    },
    {
      "cell_type": "markdown",
      "source": [
        "#### VCF file from EnsembleTR"
      ],
      "metadata": {
        "id": "VFOGU90PWtRy"
      }
    },
    {
      "cell_type": "markdown",
      "source": [
        "The ensembletr_hg38 panel is based on the GRCh38 reference assembly and contains 1.7 million unique autosomal STRs based on a combined set of TRs genotyped by four separate methods (HipSTR, GangSTR, ExpansionHunter and AdVNTR) You can download EnsembleTR calls on samples from 1000 Genomes Project and H3Africa here (https://github.com/gymrek-lab/EnsembleTR). You will need the VCF file and tbi file on Chromosome 2 of version II for this project."
      ],
      "metadata": {
        "id": "Xixy4iHYabjt"
      }
    },
    {
      "cell_type": "markdown",
      "source": [
        "First of all, install the vcf parser for python **cyvcf2**"
      ],
      "metadata": {
        "id": "qxh3P82qM3CO"
      }
    },
    {
      "cell_type": "code",
      "execution_count": 12,
      "metadata": {
        "colab": {
          "base_uri": "https://localhost:8080/"
        },
        "id": "EqRp2o4xHZ3a",
        "outputId": "b496655b-4004-4eed-900d-8b723efeb45d"
      },
      "outputs": [
        {
          "output_type": "stream",
          "name": "stdout",
          "text": [
            "Collecting cyvcf2\n",
            "  Downloading cyvcf2-0.30.22-cp310-cp310-manylinux_2_17_x86_64.manylinux2014_x86_64.whl (7.2 MB)\n",
            "\u001b[2K     \u001b[90m━━━━━━━━━━━━━━━━━━━━━━━━━━━━━━━━━━━━━━━━\u001b[0m \u001b[32m7.2/7.2 MB\u001b[0m \u001b[31m21.8 MB/s\u001b[0m eta \u001b[36m0:00:00\u001b[0m\n",
            "\u001b[?25hRequirement already satisfied: numpy in /usr/local/lib/python3.10/dist-packages (from cyvcf2) (1.23.5)\n",
            "Collecting coloredlogs (from cyvcf2)\n",
            "  Downloading coloredlogs-15.0.1-py2.py3-none-any.whl (46 kB)\n",
            "\u001b[2K     \u001b[90m━━━━━━━━━━━━━━━━━━━━━━━━━━━━━━━━━━━━━━━━\u001b[0m \u001b[32m46.0/46.0 kB\u001b[0m \u001b[31m5.6 MB/s\u001b[0m eta \u001b[36m0:00:00\u001b[0m\n",
            "\u001b[?25hRequirement already satisfied: click in /usr/local/lib/python3.10/dist-packages (from cyvcf2) (8.1.7)\n",
            "Collecting humanfriendly>=9.1 (from coloredlogs->cyvcf2)\n",
            "  Downloading humanfriendly-10.0-py2.py3-none-any.whl (86 kB)\n",
            "\u001b[2K     \u001b[90m━━━━━━━━━━━━━━━━━━━━━━━━━━━━━━━━━━━━━━━━\u001b[0m \u001b[32m86.8/86.8 kB\u001b[0m \u001b[31m12.2 MB/s\u001b[0m eta \u001b[36m0:00:00\u001b[0m\n",
            "\u001b[?25hInstalling collected packages: humanfriendly, coloredlogs, cyvcf2\n",
            "Successfully installed coloredlogs-15.0.1 cyvcf2-0.30.22 humanfriendly-10.0\n"
          ]
        }
      ],
      "source": [
        "!pip install cyvcf2\n",
        "from cyvcf2 import VCF"
      ]
    },
    {
      "cell_type": "markdown",
      "source": [
        "Don't forget to upload the VCF file and tbi file you just downloaded into your google drive"
      ],
      "metadata": {
        "id": "WTEhgivmNaQ2"
      }
    },
    {
      "cell_type": "code",
      "source": [
        "vcf_ch2 = VCF(\"/content/drive/MyDrive/ensemble_chr2_filtered.vcf.gz\")"
      ],
      "metadata": {
        "id": "a8T00GfdKxh_"
      },
      "execution_count": 21,
      "outputs": []
    },
    {
      "cell_type": "markdown",
      "source": [
        "For more information on VCF file format, see the VCF spec (https://samtools.github.io/hts-specs/VCFv4.2.pdf). Then try to extract the STR genotypes using cyvcf2 (https://brentp.github.io/cyvcf2/index.html). Here are a few exmaples for you to start."
      ],
      "metadata": {
        "id": "46lvnIANXQEr"
      }
    },
    {
      "cell_type": "code",
      "source": [
        "example = next(vcf_ch2)"
      ],
      "metadata": {
        "id": "OCj2CYsQOQUW"
      },
      "execution_count": 22,
      "outputs": []
    },
    {
      "cell_type": "code",
      "source": [
        "example.POS, example.ALT, example.CHROM, example.REF, example.end,"
      ],
      "metadata": {
        "colab": {
          "base_uri": "https://localhost:8080/"
        },
        "id": "nHIrp62joaNo",
        "outputId": "99efa3b5-3555-4863-e4a2-f0b236855e00"
      },
      "execution_count": null,
      "outputs": [
        {
          "output_type": "execute_result",
          "data": {
            "text/plain": [
              "(10567,\n",
              " ['CCCTAAC', 'CCCTAACCCCTAACCCCTAACCCCTAACCCCTAACCCCTAAC', 'CCCTAACCCCTAAC'],\n",
              " 'chr2',\n",
              " 'CCCTAACCCCTAACCCCTAAC',\n",
              " 10587)"
            ]
          },
          "metadata": {},
          "execution_count": 200
        }
      ]
    },
    {
      "cell_type": "code",
      "source": [
        "example.FORMAT"
      ],
      "metadata": {
        "colab": {
          "base_uri": "https://localhost:8080/"
        },
        "id": "RiP91AjcpTk1",
        "outputId": "9c5f52c9-a9c5-4d4e-e688-160454cadbad"
      },
      "execution_count": 23,
      "outputs": [
        {
          "output_type": "execute_result",
          "data": {
            "text/plain": [
              "['GT', 'GB', 'NCOPY', 'EXP', 'SCORE', 'GTS', 'ALS', 'INPUTS', 'FILTER']"
            ]
          },
          "metadata": {},
          "execution_count": 23
        }
      ]
    },
    {
      "cell_type": "code",
      "source": [
        "example.format(\"ALS\")"
      ],
      "metadata": {
        "colab": {
          "base_uri": "https://localhost:8080/"
        },
        "id": "dfqKEYgGd6ct",
        "outputId": "5e56a165-56da-40c5-d183-71e7c6cb00a3"
      },
      "execution_count": 24,
      "outputs": [
        {
          "output_type": "execute_result",
          "data": {
            "text/plain": [
              "array(['0|2', '0|2', '0|2', ..., '.', '0|2', '0|2'], dtype='<U8')"
            ]
          },
          "metadata": {},
          "execution_count": 24
        }
      ]
    },
    {
      "cell_type": "code",
      "source": [
        "# START, END, PERIOD, RU, METHODS, HRUN, HET, HWEP, AC, REFAC\n",
        "example.INFO.get(\"HRUN\")"
      ],
      "metadata": {
        "colab": {
          "base_uri": "https://localhost:8080/"
        },
        "id": "sWAEDiTP0d2G",
        "outputId": "5979ce10-75fc-4c74-e793-461cf6efbb7c"
      },
      "execution_count": 25,
      "outputs": [
        {
          "output_type": "execute_result",
          "data": {
            "text/plain": [
              "4"
            ]
          },
          "metadata": {},
          "execution_count": 25
        }
      ]
    },
    {
      "cell_type": "markdown",
      "source": [
        "Once you understand the structure of the VCF file and how to parse it, search for STRs by MMR genes (MSH2, MSH6, PMS1) via WebSTR API and keep only STRs from panel **EnsembleTR** . Similarly, select the most variable STR for each gene and visualise the length distribution of the STRs among all the samples."
      ],
      "metadata": {
        "id": "PqEWdhg3TupP"
      }
    },
    {
      "cell_type": "markdown",
      "source": [
        "For the STRs selected, this will allow you to do a region-query:"
      ],
      "metadata": {
        "id": "y94974CXWhE-"
      }
    },
    {
      "cell_type": "code",
      "source": [
        "rq = vcf_ch2('chr2:47398679-47401268')"
      ],
      "metadata": {
        "id": "LvGbcnBAUuyR"
      },
      "execution_count": 32,
      "outputs": []
    },
    {
      "cell_type": "code",
      "source": [
        "### your code here"
      ],
      "metadata": {
        "id": "4XrvkCAQW_qr"
      },
      "execution_count": null,
      "outputs": []
    }
  ]
}